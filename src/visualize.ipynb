{
 "cells": [
  {
   "cell_type": "code",
   "execution_count": null,
   "id": "1e88dece",
   "metadata": {},
   "outputs": [],
   "source": [
    "import visualize"
   ]
  },
  {
   "cell_type": "code",
   "execution_count": null,
   "id": "4fcdb3bc",
   "metadata": {},
   "outputs": [],
   "source": [
    "db_folder_path = \"../data/continuous/\"\n",
    "filter_expression = {\n",
    "  \"max_training_timesteps\": \"{} == {}\",\n",
    "  \"ppo\": {\n",
    "    \"n_steps\": \"{} == {}\",\n",
    "    \"policy\": \"{} == {}\",\n",
    "    \"batch_size\": \"{} == {}\",\n",
    "    \"gamma\": \"{} == {}\",\n",
    "    \"gae_lambda\": \"{} == {}\",\n",
    "    \"vf_coef\": \"{} == {}\",\n",
    "    \"net_arch\": [\n",
    "      \"{} == {}\",\n",
    "      \"{} == {}\",\n",
    "    ],\n",
    "    \"learning_rate\": \"{} == {}\",\n",
    "    \"clip_range\": \"{} == {}\",\n",
    "    \"n_epochs\": \"{} == {}\",\n",
    "    \"ent_coef\": \"{} == {}\",\n",
    "  },\n",
    "  \"n\": \"{} == {}\",\n",
    "  \"num_timesteps_per_evaluation\": \"{} == {}\",\n",
    "  \"reward_type\": \"{} == 'ONLY_EVALUATIONS'\",\n",
    "  \"num_evaluation_episodes\": \"{} == {}\",\n",
    "  \"action_type\": \"{} == 'DISCRETE'\",\n",
    "  \"num_lambdas\": \"{} == {}\",\n",
    "  \"random_seed\": \"{} == 42\",\n",
    "  \"probability_of_closeness_to_optimum\": \"{} == {}\",\n",
    "  \"state_type\": \"{} == {}\",\n",
    "}\n",
    "\n",
    "matching_paths = visualize.print_matching(db_folder_path, filter_expression)"
   ]
  },
  {
   "cell_type": "code",
   "execution_count": null,
   "id": "256a022b",
   "metadata": {},
   "outputs": [],
   "source": [
    "visualize.diagrams(db_path_str_or_db_paths_list = matching_paths, xaxis_choice = \"num_total_timesteps\", yaxis_choice = \"num_function_evaluations\")"
   ]
  },
  {
   "cell_type": "code",
   "execution_count": null,
   "id": "4c7555d6",
   "metadata": {},
   "outputs": [],
   "source": []
  }
 ],
 "metadata": {
  "kernelspec": {
   "display_name": "Python 3",
   "language": "python",
   "name": "python3"
  },
  "language_info": {
   "codemirror_mode": {
    "name": "ipython",
    "version": 3
   },
   "file_extension": ".py",
   "mimetype": "text/x-python",
   "name": "python",
   "nbconvert_exporter": "python",
   "pygments_lexer": "ipython3",
   "version": "3.10.0"
  }
 },
 "nbformat": 4,
 "nbformat_minor": 5
}
