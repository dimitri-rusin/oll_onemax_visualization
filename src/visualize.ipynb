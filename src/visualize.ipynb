{
 "cells": [
  {
   "cell_type": "code",
   "execution_count": null,
   "id": "1e88dece",
   "metadata": {},
   "outputs": [],
   "source": [
    "import visualize\n",
    "import importlib\n",
    "importlib.reload(visualize)"
   ]
  },
  {
   "cell_type": "code",
   "execution_count": null,
   "id": "2e89c479",
   "metadata": {},
   "outputs": [],
   "source": [
    "visualize.sync_data(source = \"cirrus:/work/sc122/sc122/dimitri_rusin/oll_onemax/computed/cirrus-login2/\", destination = \"/home/dimitri/code/oll_onemax/computed/cirrus-login2\")"
   ]
  },
  {
   "cell_type": "code",
   "execution_count": null,
   "id": "4fcdb3bc",
   "metadata": {},
   "outputs": [],
   "source": [
    "db_folder_path = \"/home/dimitri/code/oll_onemax/computed/cirrus-login2/four_parameters/\"\n",
    "filter_expression = {\n",
    "  \"max_training_timesteps\": \"{} == {}\",\n",
    "  \"ppo\": {\n",
    "    \"n_steps\": \"{} == {}\",\n",
    "    \"policy\": \"{} == {}\",\n",
    "    \"batch_size\": \"{} == {}\",\n",
    "    \"gamma\": \"{} == {}\",\n",
    "    \"gae_lambda\": \"{} == {}\",\n",
    "    \"vf_coef\": \"{} == {}\",\n",
    "    \"net_arch\": [\n",
    "      \"{} == {}\",\n",
    "      \"{} == {}\",\n",
    "    ],\n",
    "    \"learning_rate\": \"{} == {}\",\n",
    "    \"clip_range\": \"{} == {}\",\n",
    "    \"n_epochs\": \"{} == {}\",\n",
    "    \"ent_coef\": \"{} == {}\",\n",
    "  },\n",
    "  \"n\": \"{} == {}\",\n",
    "  \"num_timesteps_per_evaluation\": \"{} == {}\",\n",
    "  \"reward_type\": \"{} == 'EVALUATIONS_PLUS_FITNESS'\",\n",
    "  \"num_evaluation_episodes\": \"{} == {}\",\n",
    "  \"action_type\": \"{} == {}\",\n",
    "  \"num_lambdas\": \"{} == {}\",\n",
    "  \"random_seed\": \"{} == {}\",\n",
    "  \"probability_of_closeness_to_optimum\": \"{} == 0.8\",\n",
    "  \"state_type\": \"{} == 'ONE_HOT_ENCODED'\",\n",
    "}\n",
    "\n",
    "matching_paths = visualize.print_matching(db_folder_path, filter_expression)"
   ]
  },
  {
   "cell_type": "code",
   "execution_count": null,
   "id": "4b122e74",
   "metadata": {},
   "outputs": [],
   "source": [
    "len(matching_paths)"
   ]
  },
  {
   "cell_type": "code",
   "execution_count": null,
   "id": "367cbaab",
   "metadata": {},
   "outputs": [],
   "source": [
    "visualize.experiments_summary(matching_paths)"
   ]
  },
  {
   "cell_type": "code",
   "execution_count": null,
   "id": "15b20216",
   "metadata": {},
   "outputs": [],
   "source": []
  },
  {
   "cell_type": "code",
   "execution_count": null,
   "id": "28ee47ae",
   "metadata": {},
   "outputs": [],
   "source": [
    "visualize.diagrams(\"/home/dimitri/code/oll_onemax/computed/cirrus-login2/four_parameters/gleeful.db\", xaxis_choice = \"num_total_timesteps\", yaxis_choice = \"num_function_evaluations\", policy_total_timesteps = 40_000)"
   ]
  },
  {
   "cell_type": "code",
   "execution_count": null,
   "id": "a0020957",
   "metadata": {},
   "outputs": [],
   "source": []
  }
 ],
 "metadata": {
  "kernelspec": {
   "display_name": "Python 3",
   "language": "python",
   "name": "python3"
  },
  "language_info": {
   "codemirror_mode": {
    "name": "ipython",
    "version": 3
   },
   "file_extension": ".py",
   "mimetype": "text/x-python",
   "name": "python",
   "nbconvert_exporter": "python",
   "pygments_lexer": "ipython3",
   "version": "3.10.0"
  }
 },
 "nbformat": 4,
 "nbformat_minor": 5
}
